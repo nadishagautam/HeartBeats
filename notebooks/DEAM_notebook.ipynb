{
 "cells": [
  {
   "cell_type": "code",
   "execution_count": 22,
   "metadata": {},
   "outputs": [
    {
     "name": "stdout",
     "output_type": "stream",
     "text": [
      "                           workerID   SongId   Valence   Arousal\n",
      "0  6010bbc8e7ef4b21fa38f9c3a9754ef3        2         5         2\n",
      "1  3c888e77b992ae3cd2adfe16774e23b9        2         2         3\n",
      "2  2afd218c3aecb6828d2be327f8b9c46f        2         3         3\n",
      "3  fd5b08ce362d855ca9152a894348130c        2         4         4\n",
      "4  9c8073214a052e414811b76012df8847        2         2         2\n",
      "   SongId                          WorkerId   Arousal_Average  \\\n",
      "0    2001  523edc3414996c8e52eb14f20c93fe96                 7   \n",
      "1    2001  ae0b751438f08bb474e5cd3e48e0d417                 5   \n",
      "2    2001  fd4cc3ae7434a18286204f133b490502                 7   \n",
      "3    2001  58af5138dd2f00af1f52d2c2c031f4a2                 7   \n",
      "4    2001  3c960e4e5a02213fc82b98b770a0663c                 7   \n",
      "\n",
      "    Valence_Average   Arousal_Maximum   Valence_Maximum   Arousal_Minimum  \\\n",
      "0                 3                 8                 7                 2   \n",
      "1                 3                 9                 3                 3   \n",
      "2                 3                 8                 5                 4   \n",
      "3                 2                 9                 4                 5   \n",
      "4                 5                 9                 6                 3   \n",
      "\n",
      "    Valence_Minimum  \n",
      "0                 2  \n",
      "1                 2  \n",
      "2                 2  \n",
      "3                 1  \n",
      "4                 4  \n"
     ]
    }
   ],
   "source": [
    "import numpy as np\n",
    "import pandas as pd\n",
    "\n",
    "df1 = pd.read_csv(\"../DEAM_database/annotations/annotations per each rater/song_level/static_annotations_songs_1_2000.csv\", delimiter=\",\")\n",
    "df2 = pd.read_csv(\"../DEAM_database/annotations/annotations per each rater/song_level/static_annotations_songs_2000_2058.csv\", delimiter=\",\")\n",
    "\n",
    "print(df1.head())\n",
    "print(df2.head())"
   ]
  }
 ],
 "metadata": {
  "kernelspec": {
   "display_name": "base",
   "language": "python",
   "name": "python3"
  },
  "language_info": {
   "codemirror_mode": {
    "name": "ipython",
    "version": 3
   },
   "file_extension": ".py",
   "mimetype": "text/x-python",
   "name": "python",
   "nbconvert_exporter": "python",
   "pygments_lexer": "ipython3",
   "version": "3.11.0"
  }
 },
 "nbformat": 4,
 "nbformat_minor": 2
}
