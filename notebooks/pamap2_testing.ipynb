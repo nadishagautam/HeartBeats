{
 "cells": [
  {
   "cell_type": "code",
   "execution_count": null,
   "metadata": {},
   "outputs": [
    {
     "name": "stdout",
     "output_type": "stream",
     "text": [
      "  8.38 0 104 30 2.37223 8.60074 3.51048 2.43954 8.76165 3.35465 -0.0922174 0.0568115 -0.0158445 14.6806 -69.2128 -5.58905 1 0 0 0 31.8125 0.23808 9.80003 -1.68896 0.265304 9.81549 -1.41344 -0.00506495 -0.00678097 -0.00566295 0.47196 -51.0499 43.2903 1 0 0 0 30.3125 9.65918 -1.65569 -0.0997967 9.64689 -1.55576 0.310404 0.00830026 0.00925038 -0.0175803 -61.1888 -38.9599 -58.1438 1 0 0 0\n",
      "0  8.39 0 NaN 30 2.18837 8.5656 3.66179 2.39494 8...                                                                                                                                                                                                                                                                                                                                               \n",
      "1  8.4 0 NaN 30 2.37357 8.60107 3.54898 2.30514 8...                                                                                                                                                                                                                                                                                                                                               \n",
      "2  8.41 0 NaN 30 2.07473 8.52853 3.66021 2.33528 ...                                                                                                                                                                                                                                                                                                                                               \n",
      "3  8.42 0 NaN 30 2.22936 8.83122 3.7 2.23055 8.59...                                                                                                                                                                                                                                                                                                                                               \n",
      "4  8.43 0 NaN 30 2.29959 8.82929 3.5471 2.26132 8...                                                                                                                                                                                                                                                                                                                                               \n"
     ]
    }
   ],
   "source": [
    "import pandas as pd\n",
    "\n",
    "df = pd.read_csv(\"../data/PAMAP2_Dataset/Protocol/subject101.dat\", delimiter=',')\n",
    "\n",
    "print(df.head())"
   ]
  }
 ],
 "metadata": {
  "kernelspec": {
   "display_name": "venv",
   "language": "python",
   "name": "python3"
  },
  "language_info": {
   "codemirror_mode": {
    "name": "ipython",
    "version": 3
   },
   "file_extension": ".py",
   "mimetype": "text/x-python",
   "name": "python",
   "nbconvert_exporter": "python",
   "pygments_lexer": "ipython3",
   "version": "3.12.4"
  }
 },
 "nbformat": 4,
 "nbformat_minor": 2
}
