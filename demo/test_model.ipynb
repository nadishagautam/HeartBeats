{
 "cells": [
  {
   "cell_type": "code",
   "execution_count": 6,
   "metadata": {},
   "outputs": [
    {
     "name": "stdout",
     "output_type": "stream",
     "text": [
      "The song is classified as: 131-180 bpm (High Intensity)\n"
     ]
    }
   ],
   "source": [
    "from model import NeuralNetwork\n",
    "import numpy as np\n",
    "\n",
    "# for now i created these features, soon lets get a whole playlist from the dataset\n",
    "demo_song_features = [60, 0.8, -5, 0.9] # [tempo (BPM), energy [0.0-1.0], loudness (dB), valence [0.0-1.0]]\n",
    "demo_song = np.array(demo_song_features).reshape(1, -1)\n",
    "\n",
    "# define which heart rate range each intensity class corresponds to\n",
    "heart_rate_ranges = {\n",
    "    0: \"50-90 bpm (Low Intensity)\",\n",
    "    1: \"91-130 bpm (Medium Intensity)\",\n",
    "    2: \"131-180 bpm (High Intensity)\"\n",
    "}\n",
    "\n",
    "nn = NeuralNetwork.load_model(\"saved_nn.json\")\n",
    "\n",
    "predicted_class = nn.predict(demo_song)\n",
    "print(f\"The song is classified as: {heart_rate_ranges[predicted_class[0]]}\")"
   ]
  }
 ],
 "metadata": {
  "kernelspec": {
   "display_name": "venv",
   "language": "python",
   "name": "python3"
  },
  "language_info": {
   "codemirror_mode": {
    "name": "ipython",
    "version": 3
   },
   "file_extension": ".py",
   "mimetype": "text/x-python",
   "name": "python",
   "nbconvert_exporter": "python",
   "pygments_lexer": "ipython3",
   "version": "3.12.4"
  }
 },
 "nbformat": 4,
 "nbformat_minor": 2
}
