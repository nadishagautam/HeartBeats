{
 "cells": [
  {
   "cell_type": "markdown",
   "metadata": {},
   "source": [
    "Load the neural network, which was trained in the `train_model.ipynb` notebook and saved in the `saved_nn.json` file."
   ]
  },
  {
   "cell_type": "code",
   "execution_count": null,
   "metadata": {},
   "outputs": [],
   "source": [
    "from model import NeuralNetwork\n",
    "import pandas as pd\n",
    "import numpy as np\n",
    "from sklearn.preprocessing import StandardScaler\n",
    "\n",
    "file_path = '../Spotify_Song_Attributes.csv'\n",
    "song_attributes = ['tempo', 'energy', 'loudness', 'valence'] \n",
    "\n",
    "# load the dataset\n",
    "df = pd.read_csv(file_path)\n",
    "\n",
    "# scale the features used in the neural network\n",
    "scaler = StandardScaler()\n",
    "df[song_attributes] = scaler.fit_transform(df[song_attributes])\n",
    "\n",
    "# load the trained neural network\n",
    "nn = NeuralNetwork.load_model(\"saved_nn.json\")"
   ]
  },
  {
   "cell_type": "markdown",
   "metadata": {},
   "source": [
    "Generate playlists and classify the songs by intensity."
   ]
  },
  {
   "cell_type": "code",
   "execution_count": 70,
   "metadata": {},
   "outputs": [
    {
     "name": "stdout",
     "output_type": "stream",
     "text": [
      "Low Intensity Songs: ['Crazy', 'ALIENSPEAK (feat. Curtis Waters)', 'Miss Me - Demo']\n",
      "Recommended heart rate: 60-100 bpm (Resting or light activity)\n",
      "\n",
      "Medium Intensity Songs: []\n",
      "Recommended heart rate: 100-140 bpm (Moderate activity)\n",
      "\n",
      "High Intensity Songs: ['Diamonds', 'Underwater', 'Light That Fire', 'Sweet Talk', 'Without Me', 'jealousy, jealousy', 'Water Fountain']\n",
      "Recommended heart rate: 140-180 bpm (Vigorous activity)\n",
      "\n"
     ]
    }
   ],
   "source": [
    "# generate a random playlist of 10 songs from the dataset\n",
    "playlist = df.sample(n=10)\n",
    "\n",
    "# get the features used in the neural network\n",
    "playlist_filtered = np.array(playlist[song_attributes])\n",
    "\n",
    "# predict the intensities using the neural network\n",
    "intensity_levels = nn.predict(playlist_filtered)\n",
    "playlist[\"intensity\"] = intensity_levels\n",
    "\n",
    "# classify the songs into playlists\n",
    "low_intensity_songs = playlist.loc[playlist['intensity'] == 0, 'trackName'].tolist()\n",
    "med_intensity_songs = playlist.loc[playlist['intensity'] == 1, 'trackName'].tolist()\n",
    "high_intensity_songs = playlist.loc[playlist['intensity'] == 2, 'trackName'].tolist()\n",
    "\n",
    "# print the lists with heart rate recommendations\n",
    "print(\"Low Intensity Songs:\", low_intensity_songs)\n",
    "print(\"Recommended heart rate: 60-100 bpm (Resting or light activity)\\n\")\n",
    "\n",
    "print(\"Medium Intensity Songs:\", med_intensity_songs)\n",
    "print(\"Recommended heart rate: 100-140 bpm (Moderate activity)\\n\")\n",
    "\n",
    "print(\"High Intensity Songs:\", high_intensity_songs)\n",
    "print(\"Recommended heart rate: 140-180 bpm (Vigorous activity)\\n\")"
   ]
  }
 ],
 "metadata": {
  "kernelspec": {
   "display_name": "venv",
   "language": "python",
   "name": "python3"
  },
  "language_info": {
   "codemirror_mode": {
    "name": "ipython",
    "version": 3
   },
   "file_extension": ".py",
   "mimetype": "text/x-python",
   "name": "python",
   "nbconvert_exporter": "python",
   "pygments_lexer": "ipython3",
   "version": "3.12.4"
  }
 },
 "nbformat": 4,
 "nbformat_minor": 2
}
